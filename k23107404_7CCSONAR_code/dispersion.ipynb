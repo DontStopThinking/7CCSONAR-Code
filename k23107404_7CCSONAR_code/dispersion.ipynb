{
 "cells": [
  {
   "cell_type": "code",
   "execution_count": 1,
   "metadata": {},
   "outputs": [],
   "source": [
    "import pandas as pd"
   ]
  },
  {
   "cell_type": "code",
   "execution_count": 2,
   "metadata": {},
   "outputs": [],
   "source": [
    "# Load the dataset\n",
    "data = pd.read_csv('dataset.csv', skiprows=8)"
   ]
  },
  {
   "cell_type": "code",
   "execution_count": 3,
   "metadata": {},
   "outputs": [],
   "source": [
    "# Convert the 'dateadded' and 'last_online' columns to datetime\n",
    "data['dateadded'] = pd.to_datetime(data['dateadded'])\n",
    "data['last_online'] = pd.to_datetime(data['last_online'])"
   ]
  },
  {
   "cell_type": "code",
   "execution_count": 4,
   "metadata": {},
   "outputs": [],
   "source": [
    "# Calculate the lifespan of each URL in seconds\n",
    "data['url_lifespan'] = (data['last_online'] - data['dateadded']).dt.total_seconds()"
   ]
  },
  {
   "cell_type": "code",
   "execution_count": 7,
   "metadata": {},
   "outputs": [
    {
     "name": "stdout",
     "output_type": "stream",
     "text": [
      "Min lifespan of a URL: 0.00 seconds\n",
      "Max lifespan of a URL: 176435471.00\n",
      "Range of URL lifespan: 176435471.00 seconds\n"
     ]
    }
   ],
   "source": [
    "min_lifespan = data['url_lifespan'].min()\n",
    "max_lifespan = data['url_lifespan'].max()\n",
    "r = max_lifespan - min_lifespan # Range\n",
    "\n",
    "print(f'Min lifespan of a URL: {min_lifespan:.2f} seconds')\n",
    "print(f'Max lifespan of a URL: {max_lifespan:.2f}')\n",
    "print(f'Range of URL lifespan: {r:.2f} seconds')"
   ]
  },
  {
   "cell_type": "code",
   "execution_count": 9,
   "metadata": {},
   "outputs": [],
   "source": [
    "url_lifespan_mean = data['url_lifespan'].mean()\n",
    "url_lifespan_std = data['url_lifespan'].std() # Standard deviation"
   ]
  },
  {
   "cell_type": "code",
   "execution_count": 11,
   "metadata": {},
   "outputs": [
    {
     "name": "stdout",
     "output_type": "stream",
     "text": [
      "Mean of URL lifespans: 409122.79 seconds\n",
      "Standard deviation of URL lifespans: 3644492.24 seconds\n"
     ]
    }
   ],
   "source": [
    "print(f'Mean of URL lifespans: {url_lifespan_mean:.2f} seconds')\n",
    "print(f'Standard deviation of URL lifespans: {url_lifespan_std:.2f} seconds')"
   ]
  },
  {
   "cell_type": "code",
   "execution_count": 12,
   "metadata": {},
   "outputs": [],
   "source": [
    "Q1 = data['url_lifespan'].quantile(0.25) # First quartile\n",
    "Q3 = data['url_lifespan'].quantile(0.75) # Second quartile\n",
    "IQR = Q3 - Q1 # Interquartile Range"
   ]
  },
  {
   "cell_type": "code",
   "execution_count": 14,
   "metadata": {},
   "outputs": [
    {
     "name": "stdout",
     "output_type": "stream",
     "text": [
      "Value of first quartile: 15770.00 seconds\n",
      "Value of third quartile: 137362.00 seconds\n",
      "Interquartile Range: 121592.00 seconds\n"
     ]
    }
   ],
   "source": [
    "print(f'Value of first quartile: {Q1:.2f} seconds')\n",
    "print(f'Value of third quartile: {Q3:.2f} seconds')\n",
    "print(f'Interquartile Range: {IQR:.2f} seconds')"
   ]
  }
 ],
 "metadata": {
  "kernelspec": {
   "display_name": "Python 3",
   "language": "python",
   "name": "python3"
  },
  "language_info": {
   "codemirror_mode": {
    "name": "ipython",
    "version": 3
   },
   "file_extension": ".py",
   "mimetype": "text/x-python",
   "name": "python",
   "nbconvert_exporter": "python",
   "pygments_lexer": "ipython3",
   "version": "3.12.4"
  }
 },
 "nbformat": 4,
 "nbformat_minor": 2
}
